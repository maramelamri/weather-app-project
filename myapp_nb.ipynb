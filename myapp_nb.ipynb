{
 "cells": [
  {
   "cell_type": "code",
   "execution_count": null,
   "metadata": {},
   "outputs": [],
   "source": [
    "import requests\n",
    "import pandas as pd\n",
    "import json\n",
    "import matplotlib.pyplot as plt\n",
    "import seaborn as sns\n",
    "import numpy as np\n",
    "import xgboost as xgb\n",
    "from sklearn.model_selection import cross_val_score\n",
    "from sklearn.metrics import mean_squared_error\n",
    "from sklearn.preprocessing import StandardScaler\n",
    "from pandas.api.types import is_numeric_dtype\n",
    "import sqlite3"
   ]
  },
  {
   "cell_type": "code",
   "execution_count": null,
   "metadata": {},
   "outputs": [],
   "source": [
    "# API URL for weather data\n",
    "api_url = \"https://archive-api.open-meteo.com/v1/archive?latitude=36.81&longitude=10.18&start_date=1998-01-01&end_date=2023-05-24&daily=weathercode,temperature_2m_max,temperature_2m_min,temperature_2m_mean,apparent_temperature_max,apparent_temperature_min,apparent_temperature_mean,sunrise,sunset,shortwave_radiation_sum,precipitation_sum,rain_sum,snowfall_sum,precipitation_hours,windspeed_10m_max,windgusts_10m_max,winddirection_10m_dominant,et0_fao_evapotranspiration&timezone=auto\"\n",
    "\n",
    "# Make the API request\n",
    "response = requests.get(api_url)\n",
    "\n",
    "# Extract the JSON response\n",
    "data = response.json()\n",
    "\n",
    "# Extract the daily weather data from the API response\n",
    "daily_data = data['daily']\n",
    "\n",
    "# Create an empty DataFrame\n",
    "df = pd.DataFrame(daily_data)"
   ]
  },
  {
   "cell_type": "code",
   "execution_count": null,
   "metadata": {},
   "outputs": [],
   "source": [
    "#data exploration\n",
    "# Print the column names of the DataFrame\n",
    "print(df.columns)\n",
    "\n",
    "#check for missing values \n",
    "missing_values = df.isnull().sum()\n",
    "print(missing_values)\n",
    "\n",
    "df.head()\n",
    "\n",
    "# Convert the 'time' column to datetime format\n",
    "df['time'] = pd.to_datetime(df['time'])\n",
    "# Set the 'time' column as the index\n",
    "df.set_index('time', inplace=True)"
   ]
  },
  {
   "cell_type": "code",
   "execution_count": null,
   "metadata": {},
   "outputs": [],
   "source": [
    "#data viz\n",
    "# Plot the time series of temperature\n",
    "plt.figure(figsize=(12, 6))\n",
    "plt.plot(df.index, df['temperature_2m_mean'])\n",
    "plt.xlabel('Time')\n",
    "plt.ylabel('Temperature (°C)')\n",
    "plt.title('Temperature Time Series')\n",
    "plt.grid(True)\n",
    "plt.show()\n",
    "\n",
    "# Visualize the distribution of precipitation\n",
    "plt.figure(figsize=(8, 6))\n",
    "sns.histplot(df['precipitation_sum'], bins=20, kde=True)\n",
    "plt.xlabel('Precipitation (mm)')\n",
    "plt.ylabel('Frequency')\n",
    "plt.title('Distribution of Precipitation')\n",
    "plt.grid(True)\n",
    "plt.show()\n",
    "\n",
    "# Calculate summary statistics\n",
    "summary_stats = df.describe()\n",
    "print(summary_stats)\n",
    "\n",
    "# Calculate the correlation matrix\n",
    "corr_matrix = df.corr()\n",
    "\n",
    "# Plot a heatmap of the correlation matrix\n",
    "plt.figure(figsize=(10, 8))\n",
    "sns.heatmap(corr_matrix, annot=True, cmap='coolwarm', square=True)\n",
    "plt.title('Correlation Matrix')\n",
    "plt.show()"
   ]
  },
  {
   "cell_type": "code",
   "execution_count": null,
   "metadata": {},
   "outputs": [],
   "source": [
    "# train the XBoost model using the preprocessed data\n",
    "# Preprocess the DataFrame\n",
    "df_preprocessed = df.copy()\n",
    "\n",
    "# Convert sunrise and sunset columns to datetime\n",
    "df_preprocessed['sunrise'] = pd.to_datetime(df_preprocessed['sunrise'])\n",
    "df_preprocessed['sunset'] = pd.to_datetime(df_preprocessed['sunset'])\n",
    "\n",
    "# Convert numeric columns to float\n",
    "for col in df_preprocessed.columns:\n",
    "    if is_numeric_dtype(df_preprocessed[col]):\n",
    "        df_preprocessed[col] = df_preprocessed[col].astype(float)\n",
    "\n",
    "\n",
    "\n",
    "# Define the features (X) and target variables (y) based on the DataFrame 'df'\n",
    "X = df[['weathercode', 'temperature_2m_max', 'temperature_2m_min', 'apparent_temperature_max', 'apparent_temperature_min', 'apparent_temperature_mean', 'sunrise', 'sunset', 'shortwave_radiation_sum', 'precipitation_sum', 'rain_sum', 'snowfall_sum', 'precipitation_hours', 'windspeed_10m_max', 'windgusts_10m_max', 'winddirection_10m_dominant', 'et0_fao_evapotranspiration']]\n",
    "\n",
    "# Remove non-numeric columns from y\n",
    "y_numeric = df_preprocessed[['temperature_2m_mean', 'shortwave_radiation_sum', 'precipitation_sum', 'rain_sum', 'snowfall_sum', 'precipitation_hours', 'windspeed_10m_max', 'et0_fao_evapotranspiration']]\n",
    "\n",
    "# Standardize the numeric features\n",
    "numeric_cols = ['weathercode', 'temperature_2m_max', 'temperature_2m_min', 'apparent_temperature_max', 'apparent_temperature_min', 'apparent_temperature_mean', 'shortwave_radiation_sum', 'precipitation_sum', 'rain_sum', 'snowfall_sum', 'precipitation_hours', 'windspeed_10m_max', 'windgusts_10m_max', 'winddirection_10m_dominant', 'et0_fao_evapotranspiration']\n",
    "X_numeric = df_preprocessed[numeric_cols].values\n",
    "scaler = StandardScaler()\n",
    "X_scaled = scaler.fit_transform(X_numeric)\n",
    "\n",
    "# Train the XGBoost model using cross-validation\n",
    "xgb_model = xgb.XGBRegressor()\n",
    "cv_scores = cross_val_score(xgb_model, X_scaled, y_numeric, cv=5, scoring='neg_mean_squared_error')\n",
    "cv_rmse_scores = np.sqrt(-cv_scores)\n",
    "# Print the cross-validation RMSE scores\n",
    "print('Cross-Validation RMSE:', cv_rmse_scores)"
   ]
  },
  {
   "cell_type": "code",
   "execution_count": null,
   "metadata": {},
   "outputs": [],
   "source": [
    "\n",
    "\n",
    "\n",
    "\n",
    ""
   ]
  }
 ],
 "nbformat": 4,
 "nbformat_minor": 2,
 "metadata": {
  "language_info": {
   "codemirror_mode": {
    "name": "ipython",
    "version": 3
   },
   "file_extension": ".py",
   "mimetype": "text/x-python",
   "name": "python",
   "nbconvert_exporter": "python",
   "pygments_lexer": "ipython3",
   "version": 3
  },
  "orig_nbformat": 4
 }
}